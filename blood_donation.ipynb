{
  "nbformat": 4,
  "nbformat_minor": 0,
  "metadata": {
    "colab": {
      "name": "blood donation ",
      "provenance": [],
      "collapsed_sections": [],
      "authorship_tag": "ABX9TyOsxNj0Uf2lvTYQknEpWltU",
      "include_colab_link": true
    },
    "kernelspec": {
      "name": "python3",
      "display_name": "Python 3"
    },
    "language_info": {
      "name": "python"
    },
    "accelerator": "GPU",
    "widgets": {
      "application/vnd.jupyter.widget-state+json": {
        "6f86722e23304667996d5d701e3a7567": {
          "model_module": "@jupyter-widgets/controls",
          "model_name": "HBoxModel",
          "state": {
            "_view_name": "HBoxView",
            "_dom_classes": [],
            "_model_name": "HBoxModel",
            "_view_module": "@jupyter-widgets/controls",
            "_model_module_version": "1.5.0",
            "_view_count": null,
            "_view_module_version": "1.5.0",
            "box_style": "",
            "layout": "IPY_MODEL_b01091ef6e194f27ac576e7d44cbfb15",
            "_model_module": "@jupyter-widgets/controls",
            "children": [
              "IPY_MODEL_ecfa7463914546bb8c7cb31d4a8afb4e",
              "IPY_MODEL_d15929bce5d443af985675bec8e25aeb"
            ]
          }
        },
        "b01091ef6e194f27ac576e7d44cbfb15": {
          "model_module": "@jupyter-widgets/base",
          "model_name": "LayoutModel",
          "state": {
            "_view_name": "LayoutView",
            "grid_template_rows": null,
            "right": null,
            "justify_content": null,
            "_view_module": "@jupyter-widgets/base",
            "overflow": null,
            "_model_module_version": "1.2.0",
            "_view_count": null,
            "flex_flow": null,
            "width": null,
            "min_width": null,
            "border": null,
            "align_items": null,
            "bottom": null,
            "_model_module": "@jupyter-widgets/base",
            "top": null,
            "grid_column": null,
            "overflow_y": null,
            "overflow_x": null,
            "grid_auto_flow": null,
            "grid_area": null,
            "grid_template_columns": null,
            "flex": null,
            "_model_name": "LayoutModel",
            "justify_items": null,
            "grid_row": null,
            "max_height": null,
            "align_content": null,
            "visibility": null,
            "align_self": null,
            "height": null,
            "min_height": null,
            "padding": null,
            "grid_auto_rows": null,
            "grid_gap": null,
            "max_width": null,
            "order": null,
            "_view_module_version": "1.2.0",
            "grid_template_areas": null,
            "object_position": null,
            "object_fit": null,
            "grid_auto_columns": null,
            "margin": null,
            "display": null,
            "left": null
          }
        },
        "ecfa7463914546bb8c7cb31d4a8afb4e": {
          "model_module": "@jupyter-widgets/controls",
          "model_name": "FloatProgressModel",
          "state": {
            "_view_name": "ProgressView",
            "style": "IPY_MODEL_8465b58c97a74f4586450d7192fbcfb1",
            "_dom_classes": [],
            "description": "Optimization Progress: 100%",
            "_model_name": "FloatProgressModel",
            "bar_style": "",
            "max": 20,
            "_view_module": "@jupyter-widgets/controls",
            "_model_module_version": "1.5.0",
            "value": 20,
            "_view_count": null,
            "_view_module_version": "1.5.0",
            "orientation": "horizontal",
            "min": 0,
            "description_tooltip": null,
            "_model_module": "@jupyter-widgets/controls",
            "layout": "IPY_MODEL_cff40bc81c6949099ce0eb685845ffb3"
          }
        },
        "d15929bce5d443af985675bec8e25aeb": {
          "model_module": "@jupyter-widgets/controls",
          "model_name": "HTMLModel",
          "state": {
            "_view_name": "HTMLView",
            "style": "IPY_MODEL_0022cc14994b4d549e3902ec566d9c16",
            "_dom_classes": [],
            "description": "",
            "_model_name": "HTMLModel",
            "placeholder": "​",
            "_view_module": "@jupyter-widgets/controls",
            "_model_module_version": "1.5.0",
            "value": " 340/340 [03:53&lt;00:00,  1.03s/pipeline]",
            "_view_count": null,
            "_view_module_version": "1.5.0",
            "description_tooltip": null,
            "_model_module": "@jupyter-widgets/controls",
            "layout": "IPY_MODEL_ba0a4d880ce14e5aaace4f870e9068b7"
          }
        },
        "8465b58c97a74f4586450d7192fbcfb1": {
          "model_module": "@jupyter-widgets/controls",
          "model_name": "ProgressStyleModel",
          "state": {
            "_view_name": "StyleView",
            "_model_name": "ProgressStyleModel",
            "description_width": "initial",
            "_view_module": "@jupyter-widgets/base",
            "_model_module_version": "1.5.0",
            "_view_count": null,
            "_view_module_version": "1.2.0",
            "bar_color": null,
            "_model_module": "@jupyter-widgets/controls"
          }
        },
        "cff40bc81c6949099ce0eb685845ffb3": {
          "model_module": "@jupyter-widgets/base",
          "model_name": "LayoutModel",
          "state": {
            "_view_name": "LayoutView",
            "grid_template_rows": null,
            "right": null,
            "justify_content": null,
            "_view_module": "@jupyter-widgets/base",
            "overflow": null,
            "_model_module_version": "1.2.0",
            "_view_count": null,
            "flex_flow": null,
            "width": null,
            "min_width": null,
            "border": null,
            "align_items": null,
            "bottom": null,
            "_model_module": "@jupyter-widgets/base",
            "top": null,
            "grid_column": null,
            "overflow_y": null,
            "overflow_x": null,
            "grid_auto_flow": null,
            "grid_area": null,
            "grid_template_columns": null,
            "flex": null,
            "_model_name": "LayoutModel",
            "justify_items": null,
            "grid_row": null,
            "max_height": null,
            "align_content": null,
            "visibility": null,
            "align_self": null,
            "height": null,
            "min_height": null,
            "padding": null,
            "grid_auto_rows": null,
            "grid_gap": null,
            "max_width": null,
            "order": null,
            "_view_module_version": "1.2.0",
            "grid_template_areas": null,
            "object_position": null,
            "object_fit": null,
            "grid_auto_columns": null,
            "margin": null,
            "display": null,
            "left": null
          }
        },
        "0022cc14994b4d549e3902ec566d9c16": {
          "model_module": "@jupyter-widgets/controls",
          "model_name": "DescriptionStyleModel",
          "state": {
            "_view_name": "StyleView",
            "_model_name": "DescriptionStyleModel",
            "description_width": "",
            "_view_module": "@jupyter-widgets/base",
            "_model_module_version": "1.5.0",
            "_view_count": null,
            "_view_module_version": "1.2.0",
            "_model_module": "@jupyter-widgets/controls"
          }
        },
        "ba0a4d880ce14e5aaace4f870e9068b7": {
          "model_module": "@jupyter-widgets/base",
          "model_name": "LayoutModel",
          "state": {
            "_view_name": "LayoutView",
            "grid_template_rows": null,
            "right": null,
            "justify_content": null,
            "_view_module": "@jupyter-widgets/base",
            "overflow": null,
            "_model_module_version": "1.2.0",
            "_view_count": null,
            "flex_flow": null,
            "width": null,
            "min_width": null,
            "border": null,
            "align_items": null,
            "bottom": null,
            "_model_module": "@jupyter-widgets/base",
            "top": null,
            "grid_column": null,
            "overflow_y": null,
            "overflow_x": null,
            "grid_auto_flow": null,
            "grid_area": null,
            "grid_template_columns": null,
            "flex": null,
            "_model_name": "LayoutModel",
            "justify_items": null,
            "grid_row": null,
            "max_height": null,
            "align_content": null,
            "visibility": null,
            "align_self": null,
            "height": null,
            "min_height": null,
            "padding": null,
            "grid_auto_rows": null,
            "grid_gap": null,
            "max_width": null,
            "order": null,
            "_view_module_version": "1.2.0",
            "grid_template_areas": null,
            "object_position": null,
            "object_fit": null,
            "grid_auto_columns": null,
            "margin": null,
            "display": null,
            "left": null
          }
        }
      }
    }
  },
  "cells": [
    {
      "cell_type": "markdown",
      "metadata": {
        "id": "view-in-github",
        "colab_type": "text"
      },
      "source": [
        "<a href=\"https://colab.research.google.com/github/ramin40/predicting-blood-donation-/blob/main/blood_donation.ipynb\" target=\"_parent\"><img src=\"https://colab.research.google.com/assets/colab-badge.svg\" alt=\"Open In Colab\"/></a>"
      ]
    },
    {
      "cell_type": "markdown",
      "metadata": {
        "id": "I36899Gnfa2O"
      },
      "source": [
        "importing nexessary libreries"
      ]
    },
    {
      "cell_type": "code",
      "metadata": {
        "id": "LU4aiuYWfYPx"
      },
      "source": [
        "import pandas as pd\n",
        "import numpy as np\n",
        "import matplotlib.pyplot as plt\n"
      ],
      "execution_count": null,
      "outputs": []
    },
    {
      "cell_type": "markdown",
      "metadata": {
        "id": "HyBzoDe1fo4d"
      },
      "source": [
        "importinfg and incpecting data"
      ]
    },
    {
      "cell_type": "code",
      "metadata": {
        "id": "HgYdZfRifoqW"
      },
      "source": [
        "data=pd.read_csv('transfusion.data')\n",
        "print('data information',data.info())\n",
        "#renaming target column\n",
        "data.rename(columns={'whether he/she donated blood in March 2007':'target'},inplace=True)\n",
        "print('columns data',data.columns)\n",
        "print('target indicies: \\n',data['target'].value_counts())"
      ],
      "execution_count": null,
      "outputs": []
    },
    {
      "cell_type": "markdown",
      "metadata": {
        "id": "cNioDkc6hmSD"
      },
      "source": [
        "splitting data in train and test sets"
      ]
    },
    {
      "cell_type": "code",
      "metadata": {
        "id": "p_FPJQu8hltV"
      },
      "source": [
        "x=data.drop('target',axis=1)\n",
        "y=data['target']\n",
        "from sklearn.preprocessing import StandardScaler\n",
        "ss=StandardScaler()\n",
        "x=ss.fit_transform(x)\n",
        "from sklearn.model_selection import train_test_split\n",
        "xtrian,xtest,ytrain,ytest=train_test_split(x,y,test_size=0.2,random_state=123,\n",
        "                                           stratify=y)"
      ],
      "execution_count": null,
      "outputs": []
    },
    {
      "cell_type": "markdown",
      "metadata": {
        "id": "ZzAHHPRQjgAa"
      },
      "source": [
        "using TPOT"
      ]
    },
    {
      "cell_type": "code",
      "metadata": {
        "id": "gy7ZbAu8jr0C"
      },
      "source": [
        "pip install tpot"
      ],
      "execution_count": null,
      "outputs": []
    },
    {
      "cell_type": "code",
      "metadata": {
        "colab": {
          "base_uri": "https://localhost:8080/",
          "height": 815,
          "referenced_widgets": [
            "6f86722e23304667996d5d701e3a7567",
            "b01091ef6e194f27ac576e7d44cbfb15",
            "ecfa7463914546bb8c7cb31d4a8afb4e",
            "d15929bce5d443af985675bec8e25aeb",
            "8465b58c97a74f4586450d7192fbcfb1",
            "cff40bc81c6949099ce0eb685845ffb3",
            "0022cc14994b4d549e3902ec566d9c16",
            "ba0a4d880ce14e5aaace4f870e9068b7"
          ]
        },
        "id": "_p2I5khdfx4L",
        "outputId": "fdbf8d3a-6c13-4d35-e69e-7e9176060af7"
      },
      "source": [
        "from tpot import TPOTClassifier\n",
        "model=TPOTClassifier(generations=100,population_size=20,scoring='accuracy',subsample=1,\n",
        "                     n_jobs=-1,max_eval_time_mins=2,random_state=123,\n",
        "                     verbosity=2,early_stop=3,max_time_mins=5\n",
        "                     )\n",
        "model.fit(xtrian,ytrain)"
      ],
      "execution_count": null,
      "outputs": [
        {
          "output_type": "display_data",
          "data": {
            "application/vnd.jupyter.widget-view+json": {
              "model_id": "6f86722e23304667996d5d701e3a7567",
              "version_minor": 0,
              "version_major": 2
            },
            "text/plain": [
              "HBox(children=(FloatProgress(value=0.0, description='Optimization Progress', max=20.0, style=ProgressStyle(des…"
            ]
          },
          "metadata": {
            "tags": []
          }
        },
        {
          "output_type": "stream",
          "text": [
            "\r\n",
            "Generation 1 - Current best internal CV score: 0.7976750700280112\n",
            "\n",
            "Generation 2 - Current best internal CV score: 0.8077310924369747\n",
            "\n",
            "Generation 3 - Current best internal CV score: 0.8077310924369747\n",
            "\n",
            "Generation 4 - Current best internal CV score: 0.8077310924369747\n",
            "\n",
            "Generation 5 - Current best internal CV score: 0.8093697478991597\n",
            "\n",
            "Generation 6 - Current best internal CV score: 0.8093697478991597\n",
            "\n",
            "Generation 7 - Current best internal CV score: 0.8093697478991597\n",
            "\n",
            "Generation 8 - Current best internal CV score: 0.8110224089635855\n",
            "\n",
            "Generation 9 - Current best internal CV score: 0.8110224089635855\n",
            "\n",
            "Generation 10 - Current best internal CV score: 0.8110504201680673\n",
            "\n",
            "Generation 11 - Current best internal CV score: 0.8110504201680673\n",
            "\n",
            "Generation 12 - Current best internal CV score: 0.8110504201680673\n",
            "\n",
            "Generation 13 - Current best internal CV score: 0.8110644257703081\n",
            "\n",
            "Generation 14 - Current best internal CV score: 0.8110644257703081\n",
            "\n",
            "Generation 15 - Current best internal CV score: 0.8110644257703081\n",
            "\n",
            "Generation 16 - Current best internal CV score: 0.8110644257703081\n",
            "\n",
            "The optimized pipeline was not improved after evaluating 3 more generations. Will end the optimization process.\n",
            "\n",
            "TPOT closed prematurely. Will use the current best pipeline.\n",
            "\n",
            "Best pipeline: MLPClassifier(CombineDFs(input_matrix, input_matrix), alpha=0.0001, learning_rate_init=0.001)\n"
          ],
          "name": "stdout"
        },
        {
          "output_type": "execute_result",
          "data": {
            "text/plain": [
              "TPOTClassifier(config_dict=None, crossover_rate=0.1, cv=5,\n",
              "               disable_update_check=False, early_stop=3, generations=100,\n",
              "               log_file=None, max_eval_time_mins=2, max_time_mins=5,\n",
              "               memory=None, mutation_rate=0.9, n_jobs=-1, offspring_size=None,\n",
              "               periodic_checkpoint_folder=None, population_size=20,\n",
              "               random_state=123, scoring='accuracy', subsample=1, template=None,\n",
              "               use_dask=False, verbosity=2, warm_start=False)"
            ]
          },
          "metadata": {
            "tags": []
          },
          "execution_count": 25
        }
      ]
    },
    {
      "cell_type": "code",
      "metadata": {
        "id": "YXv0h6Gbjqdx"
      },
      "source": [
        ""
      ],
      "execution_count": null,
      "outputs": []
    }
  ]
}